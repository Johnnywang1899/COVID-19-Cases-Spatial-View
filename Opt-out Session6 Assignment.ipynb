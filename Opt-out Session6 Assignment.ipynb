{
 "cells": [
  {
   "cell_type": "code",
   "execution_count": 7,
   "metadata": {},
   "outputs": [],
   "source": [
    "from arcgis.gis import GIS\n",
    "from credential import Arcgis_id"
   ]
  },
  {
   "cell_type": "code",
   "execution_count": 8,
   "metadata": {},
   "outputs": [
    {
     "name": "stdout",
     "output_type": "stream",
     "text": [
      "Please sign in to your GIS and paste the code that is obtained below.\n",
      "If a web browser does not automatically open, please navigate to the URL below yourself instead.\n",
      "Opening web browser to navigate to: https://utoronto.maps.arcgis.com/sharing/rest//oauth2/authorize?response_type=code&client_id=fioWa2RXNLQcPGob&redirect_uri=urn%3Aietf%3Awg%3Aoauth%3A2.0%3Aoob&state=7WSbXKzNbn6ZrYZp5r5Ftvl9nVWoLv\n",
      "Enter code obtained on signing in using SAML: ········\n",
      "Successfully logged in as: wangy216_utoronto\n"
     ]
    },
    {
     "name": "stderr",
     "output_type": "stream",
     "text": [
      "D:\\Anaconda\\software\\envs\\PythonData\\lib\\site-packages\\urllib3\\connectionpool.py:981: InsecureRequestWarning: Unverified HTTPS request is being made to host 'utoronto.maps.arcgis.com'. Adding certificate verification is strongly advised. See: https://urllib3.readthedocs.io/en/latest/advanced-usage.html#ssl-warnings\n",
      "  warnings.warn(\n"
     ]
    }
   ],
   "source": [
    "gis = GIS(\"https://utoronto.maps.arcgis.com\", client_id = Arcgis_id)\n",
    "print(\"Successfully logged in as: \" + gis.properties.user.username)"
   ]
  },
  {
   "cell_type": "code",
   "execution_count": 9,
   "metadata": {},
   "outputs": [],
   "source": [
    "user = gis.users.get('john.smith')"
   ]
  },
  {
   "cell_type": "code",
   "execution_count": 26,
   "metadata": {},
   "outputs": [
    {
     "data": {
      "application/vnd.jupyter.widget-view+json": {
       "model_id": "db34a5cc15cb418ca0cbe1c4a5d86350",
       "version_major": 2,
       "version_minor": 0
      },
      "text/plain": [
       "MapView(layout=Layout(height='400px', width='100%'))"
      ]
     },
     "metadata": {},
     "output_type": "display_data"
    },
    {
     "data": {
      "text/html": [
       "<div class=\"map-static-img-preview-c617c780-7ed7-460f-ad17-bcf2fbb452e7\"><img src=\"\"></img></div>"
      ],
      "text/plain": [
       "<IPython.core.display.HTML object>"
      ]
     },
     "metadata": {},
     "output_type": "display_data"
    },
    {
     "data": {
      "text/html": [
       "<div class=\"map-html-embed-preview-c617c780-7ed7-460f-ad17-bcf2fbb452e7\"></div>"
      ],
      "text/plain": [
       "<IPython.core.display.HTML object>"
      ]
     },
     "metadata": {},
     "output_type": "display_data"
    }
   ],
   "source": [
    "toronto_map = gis.map(\"Toronto, Ontario\")\n",
    "toronto_map"
   ]
  },
  {
   "cell_type": "code",
   "execution_count": 23,
   "metadata": {},
   "outputs": [
    {
     "data": {
      "text/plain": [
       "10.0"
      ]
     },
     "execution_count": 23,
     "metadata": {},
     "output_type": "execute_result"
    }
   ],
   "source": [
    "toronto_map.zoom"
   ]
  },
  {
   "cell_type": "code",
   "execution_count": 24,
   "metadata": {},
   "outputs": [
    {
     "data": {
      "text/plain": [
       "0.0"
      ]
     },
     "execution_count": 24,
     "metadata": {},
     "output_type": "execute_result"
    }
   ],
   "source": [
    "toronto_map.rotation"
   ]
  },
  {
   "cell_type": "code",
   "execution_count": 25,
   "metadata": {},
   "outputs": [
    {
     "data": {
      "application/vnd.jupyter.widget-view+json": {
       "model_id": "7636b73e4c1848da9ba82ccb81ef93a5",
       "version_major": 2,
       "version_minor": 0
      },
      "text/plain": [
       "MapView(jupyter_target='notebook', layout=Layout(height='400px', width='100%'), ready=True)"
      ]
     },
     "metadata": {},
     "output_type": "display_data"
    },
    {
     "data": {
      "text/html": [
       "<div class=\"map-static-img-preview-a38bcb0f-bf3a-4228-9de9-a436133a461e\"><img src=\"\"></img></div>"
      ],
      "text/plain": [
       "<IPython.core.display.HTML object>"
      ]
     },
     "metadata": {},
     "output_type": "display_data"
    },
    {
     "data": {
      "text/html": [
       "<div class=\"map-html-embed-preview-a38bcb0f-bf3a-4228-9de9-a436133a461e\"></div>"
      ],
      "text/plain": [
       "<IPython.core.display.HTML object>"
      ]
     },
     "metadata": {},
     "output_type": "display_data"
    }
   ],
   "source": [
    "toronto_map.rotation = 17.5\n",
    "toronto_map"
   ]
  },
  {
   "cell_type": "code",
   "execution_count": 27,
   "metadata": {},
   "outputs": [
    {
     "data": {
      "text/plain": [
       "{'spatialReference': {'latestWkid': 3857, 'wkid': 102100},\n",
       " 'x': -8837146.757199967,\n",
       " 'y': 5411286.851528973}"
      ]
     },
     "execution_count": 27,
     "metadata": {},
     "output_type": "execute_result"
    }
   ],
   "source": [
    "toronto_map.center"
   ]
  },
  {
   "cell_type": "code",
   "execution_count": 28,
   "metadata": {},
   "outputs": [
    {
     "data": {
      "text/plain": [
       "'default'"
      ]
     },
     "execution_count": 28,
     "metadata": {},
     "output_type": "execute_result"
    }
   ],
   "source": [
    "toronto_map.basemap"
   ]
  },
  {
   "cell_type": "code",
   "execution_count": 29,
   "metadata": {},
   "outputs": [
    {
     "data": {
      "text/plain": [
       "{'spatialReference': {'latestWkid': 3857, 'wkid': 102100},\n",
       " 'xmin': -8912360.793032609,\n",
       " 'ymin': 5380712.040214892,\n",
       " 'xmax': -8761932.721367326,\n",
       " 'ymax': 5441861.662843055}"
      ]
     },
     "execution_count": 29,
     "metadata": {},
     "output_type": "execute_result"
    }
   ],
   "source": [
    "toronto_map.extent"
   ]
  },
  {
   "cell_type": "code",
   "execution_count": 41,
   "metadata": {},
   "outputs": [
    {
     "data": {
      "application/vnd.jupyter.widget-view+json": {
       "model_id": "db34a5cc15cb418ca0cbe1c4a5d86350",
       "version_major": 2,
       "version_minor": 0
      },
      "text/plain": [
       "MapView(jupyter_target='notebook', layout=Layout(height='400px', width='100%'), mode='3D', ready=True)"
      ]
     },
     "metadata": {},
     "output_type": "display_data"
    },
    {
     "data": {
      "text/html": [
       "<div class=\"map-static-img-preview-c617c780-7ed7-460f-ad17-bcf2fbb452e7\"><img src=\"\"></img></div>"
      ],
      "text/plain": [
       "<IPython.core.display.HTML object>"
      ]
     },
     "metadata": {},
     "output_type": "display_data"
    },
    {
     "data": {
      "text/html": [
       "<div class=\"map-html-embed-preview-c617c780-7ed7-460f-ad17-bcf2fbb452e7\"></div>"
      ],
      "text/plain": [
       "<IPython.core.display.HTML object>"
      ]
     },
     "metadata": {},
     "output_type": "display_data"
    }
   ],
   "source": [
    "toronto_map.basemap = ('dark-gray')\n",
    "toronto_map.mode = \"3D\"\n",
    "toronto_map.zoom = 4\n",
    "toronto_map.tilt = 1\n",
    "toronto_map.heading = 0\n",
    "toronto_map"
   ]
  },
  {
   "cell_type": "code",
   "execution_count": 42,
   "metadata": {},
   "outputs": [
    {
     "name": "stdout",
     "output_type": "stream",
     "text": [
      "<Item title:\"residential_renovation_points_yorkville_chengxili_1003098113\" type:Feature Layer Collection owner:lichen43_utoronto>\n",
      "<Item title:\"NR DocumentedLocations\" type:Feature Layer Collection owner:rashid56_utoronto>\n",
      "<Item title:\"2016Energy\" type:Feature Layer Collection owner:leungji6_utoronto>\n",
      "<Item title:\"TOWards SI\" type:Feature Layer Collection owner:ilanges4_utoronto>\n",
      "<Item title:\"Bicycle Parking Racks Data\" type:Feature Layer Collection owner:bhattja1_utoronto>\n",
      "<Item title:\"_UTSC_Tian\" type:Feature Layer Collection owner:gis.maps>\n",
      "<Item title:\"NovaScotia_places_zhuang51_v1\" type:Feature Layer Collection owner:zhuang51_utoronto>\n",
      "<Item title:\"Bike_Lanes_MB1\" type:Feature Layer Collection owner:obnamiaj_utoronto>\n",
      "<Item title:\"kannann2_SuitableSites\" type:Feature Layer Collection owner:kannann2_utoronto>\n",
      "<Item title:\"Transmission_Lines_10_Mi_Zone_THM\" type:Feature Layer Collection owner:tuhuimin_utoronto>\n"
     ]
    }
   ],
   "source": [
    "items = gis.content.search('', 'feature layer')\n",
    "for item in items:\n",
    "    print(item)"
   ]
  },
  {
   "cell_type": "code",
   "execution_count": 44,
   "metadata": {},
   "outputs": [
    {
     "name": "stdout",
     "output_type": "stream",
     "text": [
      "<Item title:\"RSM8431 Toronto Neighbourhoods\" type:Feature Layer Collection owner:macdo925_utoronto>\n",
      "toronto_neighbourhoods\n",
      "<Item title:\"utoronto\" type:Feature Layer Collection owner:macdo925_utoronto>\n",
      "utoronto\n",
      "<Item title:\"Crime2018\" type:Feature Layer Collection owner:macdo925_utoronto>\n",
      "Crime2018\n"
     ]
    }
   ],
   "source": [
    "items = gis.content.search('owner:macdo925_utoronto', 'feature layer')\n",
    "for item in items:\n",
    "    print(item)\n",
    "    for lyr in item.layers:\n",
    "        print(lyr.properties.name)"
   ]
  },
  {
   "cell_type": "code",
   "execution_count": 45,
   "metadata": {},
   "outputs": [],
   "source": [
    "map1 = gis.map(\"Toronto, ON\")"
   ]
  },
  {
   "cell_type": "code",
   "execution_count": 66,
   "metadata": {},
   "outputs": [
    {
     "data": {
      "application/vnd.jupyter.widget-view+json": {
       "model_id": "24798ac931aa429e93594c1632f62475",
       "version_major": 2,
       "version_minor": 0
      },
      "text/plain": [
       "MapView(layout=Layout(height='400px', width='100%'))"
      ]
     },
     "metadata": {},
     "output_type": "display_data"
    },
    {
     "data": {
      "text/html": [
       "<div class=\"map-static-img-preview-d75023c4-96d1-49e0-a004-e83802e93491\"><img src=\"\"></img></div>"
      ],
      "text/plain": [
       "<IPython.core.display.HTML object>"
      ]
     },
     "metadata": {},
     "output_type": "display_data"
    },
    {
     "data": {
      "text/html": [
       "<div class=\"map-html-embed-preview-d75023c4-96d1-49e0-a004-e83802e93491\"></div>"
      ],
      "text/plain": [
       "<IPython.core.display.HTML object>"
      ]
     },
     "metadata": {},
     "output_type": "display_data"
    }
   ],
   "source": [
    "# Reset the map widget\n",
    "map1 = gis.map('Toronto, ON')\n",
    "\n",
    "# Get the first item - the crimes in Toronto in 2018\n",
    "crime_locations = items[2]\n",
    "\n",
    "# Get the sencond item - the toronto neighbourhoods\n",
    "toronto_neighbourhoods = items[0]\n",
    "\n",
    "# Add teh neighbourhoods to the map\n",
    "map1.add_layer(toronto_neighbourhoods)\n",
    "\n",
    "# Get the thrid item - the university location\n",
    "university_location = items[1]\n",
    "\n",
    "# Add the crimes layer to the map\n",
    "map1.add_layer(crime_locations)\n",
    "\n",
    "# Add the university of Toronto to the map\n",
    "map1.add_layer(university_location)\n",
    "\n",
    "# Set the extent to be the spatial envelop of the neighbourhoods\n",
    "map1.extext = toronto_neighbourhoods.extent\n",
    "\n",
    "map1"
   ]
  },
  {
   "cell_type": "code",
   "execution_count": 52,
   "metadata": {},
   "outputs": [
    {
     "data": {
      "text/html": [
       "<div class=\"item_container\" style=\"height: auto; overflow: hidden; border: 1px solid #cfcfcf; border-radius: 2px; background: #f6fafa; line-height: 1.21429em; padding: 10px;\">\n",
       "                    <div class=\"item_left\" style=\"width: 210px; float: left;\">\n",
       "                       <a href='https://utoronto.maps.arcgis.com/home/item.html?id=c97bd913d8994f828601a8aa638a5ac5' target='_blank'>\n",
       "                        <img src='data:image/png;base64,/9j/4AAQSkZJRgABAQEADAAMAAD/2wBDAAgGBgcGBQgHBwcJCQgKDBQNDAsLDBkSEw8UHRofHh0aHBwgJC4nICIsIxwcKDcpLDAxNDQ0Hyc5PTgyPC4zNDL/2wBDAQkJCQwLDBgNDRgyIRwhMjIyMjIyMjIyMjIyMjIyMjIyMjIyMjIyMjIyMjIyMjIyMjIyMjIyMjIyMjIyMjIyMjL/wAARCACFAMgDAREAAhEBAxEB/8QAHwAAAQUBAQEBAQEAAAAAAAAAAAECAwQFBgcICQoL/8QAtRAAAgEDAwIEAwUFBAQAAAF9AQIDAAQRBRIhMUEGE1FhByJxFDKBkaEII0KxwRVS0fAkM2JyggkKFhcYGRolJicoKSo0NTY3ODk6Q0RFRkdISUpTVFVWV1hZWmNkZWZnaGlqc3R1dnd4eXqDhIWGh4iJipKTlJWWl5iZmqKjpKWmp6ipqrKztLW2t7i5usLDxMXGx8jJytLT1NXW19jZ2uHi4+Tl5ufo6erx8vP09fb3+Pn6/8QAHwEAAwEBAQEBAQEBAQAAAAAAAAECAwQFBgcICQoL/8QAtREAAgECBAQDBAcFBAQAAQJ3AAECAxEEBSExBhJBUQdhcRMiMoEIFEKRobHBCSMzUvAVYnLRChYkNOEl8RcYGRomJygpKjU2Nzg5OkNERUZHSElKU1RVVldYWVpjZGVmZ2hpanN0dXZ3eHl6goOEhYaHiImKkpOUlZaXmJmaoqOkpaanqKmqsrO0tba3uLm6wsPExcbHyMnK0tPU1dbX2Nna4uPk5ebn6Onq8vP09fb3+Pn6/9oADAMBAAIRAxEAPwD3+gAoAKACgAoAKACgAoAKACgAoAKACgAoAKACgAoAKACgAoAKACgAoAKACgAoAKACgAoAKACgAoAKACgAoAKACgAoAKACgAoAKACgAoAKACgAoAKACgAoAKACgAoAKACgAoAKACgAoAKACgAoAKACgAoAKACgAJAGT0oAYkscjFUcMR6Uk09htNbj6YgoAKACgAoAKACgAoAKACgAoAKACgAoAKACgAoAKACgAoAQsFGWIA9TQBA95Ev3SXPtUOpFFqnJlY30kmdgCAHHqazdV9DRUl1IWZnPzsW+prJyb3NVFLYkt32XCHsflP4/5FVTdpE1FeJp11HKFABQAUAFABQAUAFABQAUAFABQAUAFABQAUAFADWdUGWYKPc0XsFrleS/hUZXL8446Vm6kUaKnJlaa/lGMYQE4OBk1m6rexoqSW5Wd2dlchjg8lj2rNtvc0SS2EUtIm4PjPTFIYLuMjjcB0Jxz/npQA4ZRwMkg+vrQA7IJwDzQG5pQXIl+Vhtb+f0rqhNSOWcHEnqyAoAKACgAoAKACgAoAKACgAoAKACgBjzRx/fcA+meaTaW40m9itJfqoPloWI9eKzdVdDRUn1Kr38rgHeEXODjp09azdWTLVOK3IPM3S5G5sjqf8A69Q23uaJJbDcOYW5AwTxjJ60hg+wMAZAScjJPT/OKBD1YyqCDtX26mgZGnl7Rg4cZB2jmgQ5Qxw0YCjGOetAxCA0IYgk5BGTnNAhX2nCldi+pFAye2h3T7FBCghsjt/nFXTi2yKkkka9dRyhQAUAFABQAUAFABQAUAFAEUlzFGSC2SOw5qXJLcpRb2KkmonB8uPGDjLH/Cs3V7GipdyF7lm+9KeewOP5Vm6kmaKnFFYklGIU5UkgnipKJSwXHU59KQyD5RENhO5euBxx60xD2+R0JLMx4xSGKflJ3SYLc4UUANjXDbNz7cZHagBwjXLKckdcEnof8mgAHCxnuDtP+frQA5TtYqe5JFADBtEmYwWAHO3oDQBZiglmBOzC+pPBq402yJVEjQt7dLeIIo+p9a6IxUVY55ScnclqiQoAKACgAoAKACgAoAKACgCheR7JQ46P1+tYVY9TelLoUZQeSATkdB69qxNhgIU5VSDwxwcDFAhybyWYEA55X/69AxyhY+XIBJ456UANLbncBWO4YGRigBpwVUkjLAMWb+VAh6qCuUAVgccCgYpO9DztZe/oaAGq2CshY4bjnH9KAGkbnIAbOQQDkY9aBAYy4YYGQevXPfFAy/aWokPmtwh6LjGcVtTp9WY1KnRGjW5gFABQAUAFABQAUAFABQAUAFABQBFcR+bAwAyw5H1qZK6sVF2dzM61yHWQeWxZlVhjBB46Z7UANBZtw+63c7se2aBBjKswUKGX7zGgB7SjarAHg5yRgUDI1Zt3GPQHnC/54piHRjp8xILc8+1IBFCrgry38Snt+FAC5URn5zuHOOnv0oAVn3MSuc9FI75oAsWtuz5QA7QfvGtIQ5ncic+VWNYAKAAMAV0nMLQAUAFABQAUAFABQAUAFABQAUAFABQBl3aiGVz/AAn5h/n61zVI2kdNOV4lQEfwsxY9dozn+grM0GlW8skKMZyAep9qBClCnzYAHTA5P4cUANyqjcyjAz1PODTAGJO5WI+Zc4HJJpAOCqsRbGHXOAT+VADNzADC4XbnOcZP6UwFVfmwwPJyFT1FAFmzt/NfYcjZwST0H+NVCPMyJy5UbAAVQFAAHQCuo5haACgAoAKACgAoAKACgAoAKACgAoAKACgDNvJlkfoMR559+9c9WV9EdFKNtWVAXZiyqBxg7jWRqMLHlCfLGc5agQ1XORySw7EE4/CmAuTE5LDg85Pb8OaQB8wBP3fmwQDtH+PpQAwqA4OcHPUc5/x6j8qYEsQ4O7O4HjnOM0WuGxasrHPzu25Txxx0rWEE9WZTm1ojTVFQYVQB7Vvaxhe46gAoAKACgAoAKACgAoAKACgAoAKACgAoAKAKl3bK8RKRjdnJ2jk1nON1oaQlZ6mesbRyMpBGMdf8/Sudprc6E09gchXViQByMmkMQncw8sgEnGT92mld2E3ZXLraaSoPnNuHsAK39krGHtXcrjTpFLgxjBHY5qPZMv2qJbdbYgNK43gchjgVUIx3ZM5S2HbI+bll2qT8idPxqrK/MTd/CW7YbbdR9f51aIZLTEFABQAUAFABQAUAFABQAUAFABQAUAFABQAUAFAGZeQss+7OEf065rnqxs7nRSldWKi480hQD33Hn8qyNS/Z25cCSQdD8vv71vSh1ZhUn0RfrYxCgCD7HD5hdl3EnOD0zU8qK5mSsisQWUEjpmqJFACgADAFAC0AFABQAUAFABQAUAFABQAUAFABQAUAFABQAUAFAEc8QniaM8A0pK6sNOzuRiyhG07TkdyalQiinOTLHQYFWQFABQAUAFABQAUAFABQAUAFABQAUAFABQAUAFABQAUAFABQAUAFABQAUAFABQAUAFABQAUAFABQAUAFABQAUAFABQAUAFABQAUAFABQAUAFABQAUAFABQAUAFABQAUAFABQAUAFABQAUAFABQAUAFABQAUAFABQAUAFABQAUAFABQAUAFABQAUAFABQAUAFABQAUAFABQAUAFABQAUAf//Z' width='200' height='133' class=\"itemThumbnail\">\n",
       "                       </a>\n",
       "                    </div>\n",
       "\n",
       "                    <div class=\"item_right\"     style=\"float: none; width: auto; overflow: hidden;\">\n",
       "                        <a href='https://utoronto.maps.arcgis.com/home/item.html?id=c97bd913d8994f828601a8aa638a5ac5' target='_blank'><b>RSM8431 Toronto Neighbourhoods</b>\n",
       "                        </a>\n",
       "                        <br/>Toronto neighbourhoods<img src='https://utoronto.maps.arcgis.com/home/js/jsapi/esri/css/images/item_type_icons/featureshosted16.png' style=\"vertical-align:middle;\">Feature Layer Collection by macdo925_utoronto\n",
       "                        <br/>Last Modified: August 10, 2019\n",
       "                        <br/>0 comments, 94 views\n",
       "                    </div>\n",
       "                </div>\n",
       "                "
      ],
      "text/plain": [
       "<Item title:\"RSM8431 Toronto Neighbourhoods\" type:Feature Layer Collection owner:macdo925_utoronto>"
      ]
     },
     "execution_count": 52,
     "metadata": {},
     "output_type": "execute_result"
    }
   ],
   "source": [
    "items[0]"
   ]
  },
  {
   "cell_type": "code",
   "execution_count": 53,
   "metadata": {},
   "outputs": [
    {
     "data": {
      "text/html": [
       "<div class=\"item_container\" style=\"height: auto; overflow: hidden; border: 1px solid #cfcfcf; border-radius: 2px; background: #f6fafa; line-height: 1.21429em; padding: 10px;\">\n",
       "                    <div class=\"item_left\" style=\"width: 210px; float: left;\">\n",
       "                       <a href='https://utoronto.maps.arcgis.com/home/item.html?id=07a092ebf64c4c79abb1751f3ae55acc' target='_blank'>\n",
       "                        <img src='data:image/png;base64,/9j/4AAQSkZJRgABAQEADAAMAAD/2wBDAAgGBgcGBQgHBwcJCQgKDBQNDAsLDBkSEw8UHRofHh0aHBwgJC4nICIsIxwcKDcpLDAxNDQ0Hyc5PTgyPC4zNDL/2wBDAQkJCQwLDBgNDRgyIRwhMjIyMjIyMjIyMjIyMjIyMjIyMjIyMjIyMjIyMjIyMjIyMjIyMjIyMjIyMjIyMjIyMjL/wAARCACFAMgDAREAAhEBAxEB/8QAHwAAAQUBAQEBAQEAAAAAAAAAAAECAwQFBgcICQoL/8QAtRAAAgEDAwIEAwUFBAQAAAF9AQIDAAQRBRIhMUEGE1FhByJxFDKBkaEII0KxwRVS0fAkM2JyggkKFhcYGRolJicoKSo0NTY3ODk6Q0RFRkdISUpTVFVWV1hZWmNkZWZnaGlqc3R1dnd4eXqDhIWGh4iJipKTlJWWl5iZmqKjpKWmp6ipqrKztLW2t7i5usLDxMXGx8jJytLT1NXW19jZ2uHi4+Tl5ufo6erx8vP09fb3+Pn6/8QAHwEAAwEBAQEBAQEBAQAAAAAAAAECAwQFBgcICQoL/8QAtREAAgECBAQDBAcFBAQAAQJ3AAECAxEEBSExBhJBUQdhcRMiMoEIFEKRobHBCSMzUvAVYnLRChYkNOEl8RcYGRomJygpKjU2Nzg5OkNERUZHSElKU1RVVldYWVpjZGVmZ2hpanN0dXZ3eHl6goOEhYaHiImKkpOUlZaXmJmaoqOkpaanqKmqsrO0tba3uLm6wsPExcbHyMnK0tPU1dbX2Nna4uPk5ebn6Onq8vP09fb3+Pn6/9oADAMBAAIRAxEAPwD3+gAoAKACgAoAKACgAoAKACgAoAKACgAoAKACgAoAKACgAoAKACgAoAKACgAoAKACgAoAKACgAoAKACgAoAKACgAoAKACgAoAKACgAoAKACgAoAKACgAoAKACgAoAKACgAoAKACgAoAKACgAoAKACgAoAKACgAoAKACgAoAKACgAoAKACgAoAKACgAoAKACgAoAKACgAoAKACgAoAKACgAoAKACgAoAKACgAoAKACgAoAKACgAoAKACgAoAKACgAoAKACgAoAKACgAoAKACgAoAKACgAoAKACgAoAKACgAoAKACgAoAKACgAoAKACgAoAKACgAoAKACgAoAKACgAoAKACgAoAKACgAoAKACgAoAKACgAoAKACgAoAKACgAoAKACgAoAKACgAoAKACgAoAKACgAoAKACgAoAKACgAoAKACgAoAKACgAoAKACgAoAKACgAoAKACgAoAKACgAoAKACgAoAKACgAoAKACgAoAKACgAoAKACgAoAKACgAoAKACgAoAKACgAoAKACgAoAKACgAoAKACgAoAKACgAoAKACgAoAKACgAoAKACgAoAKACgAoAKACgAoAKACgAoAKACgAoAKACgAoAKACgAoAKACgAoAKACgAoAKACgAoAKACgAoAKACgAoAKACgAoAKACgAoAKACgAoAKACgAoAKACgAoAKACgAoAKACgAoAKACgAoAKACgAoAKACgAoAKACgAoAKACgAoAKACgAoAKACgAoAKACgAoAKACgAoAKACgAoAKACgAoAKACgAoAKACgAoAKACgAoAKACgAoAKACgAoAKACgAoAKACgAoAKACgAoAKACgAoAKACgAoAKACgAoAKACgAoAKACgAoAKACgAoAKACgAoAKACgAoAKACgAoAKACgAoAKACgAoAKACgAoAKACgAoAKACgAoAKACgAoAKACgAoAKACgAoAKACgAoAKACgAoAKACgAoAKACgAoAKACgAoAKACgAoA/9k=' width='200' height='133' class=\"itemThumbnail\">\n",
       "                       </a>\n",
       "                    </div>\n",
       "\n",
       "                    <div class=\"item_right\"     style=\"float: none; width: auto; overflow: hidden;\">\n",
       "                        <a href='https://utoronto.maps.arcgis.com/home/item.html?id=07a092ebf64c4c79abb1751f3ae55acc' target='_blank'><b>utoronto</b>\n",
       "                        </a>\n",
       "                        <br/>University of Toronto campus location<img src='https://utoronto.maps.arcgis.com/home/js/jsapi/esri/css/images/item_type_icons/featureshosted16.png' style=\"vertical-align:middle;\">Feature Layer Collection by macdo925_utoronto\n",
       "                        <br/>Last Modified: August 10, 2019\n",
       "                        <br/>0 comments, 30 views\n",
       "                    </div>\n",
       "                </div>\n",
       "                "
      ],
      "text/plain": [
       "<Item title:\"utoronto\" type:Feature Layer Collection owner:macdo925_utoronto>"
      ]
     },
     "execution_count": 53,
     "metadata": {},
     "output_type": "execute_result"
    }
   ],
   "source": [
    "items[1]"
   ]
  },
  {
   "cell_type": "code",
   "execution_count": 55,
   "metadata": {},
   "outputs": [
    {
     "data": {
      "text/html": [
       "<div class=\"item_container\" style=\"height: auto; overflow: hidden; border: 1px solid #cfcfcf; border-radius: 2px; background: #f6fafa; line-height: 1.21429em; padding: 10px;\">\n",
       "                    <div class=\"item_left\" style=\"width: 210px; float: left;\">\n",
       "                       <a href='https://utoronto.maps.arcgis.com/home/item.html?id=9243856268e5410ca08c2226fa6e7078' target='_blank'>\n",
       "                        <img src='data:image/png;base64,/9j/4AAQSkZJRgABAQEADAAMAAD/2wBDAAgGBgcGBQgHBwcJCQgKDBQNDAsLDBkSEw8UHRofHh0aHBwgJC4nICIsIxwcKDcpLDAxNDQ0Hyc5PTgyPC4zNDL/2wBDAQkJCQwLDBgNDRgyIRwhMjIyMjIyMjIyMjIyMjIyMjIyMjIyMjIyMjIyMjIyMjIyMjIyMjIyMjIyMjIyMjIyMjL/wAARCACFAMgDAREAAhEBAxEB/8QAHwAAAQUBAQEBAQEAAAAAAAAAAAECAwQFBgcICQoL/8QAtRAAAgEDAwIEAwUFBAQAAAF9AQIDAAQRBRIhMUEGE1FhByJxFDKBkaEII0KxwRVS0fAkM2JyggkKFhcYGRolJicoKSo0NTY3ODk6Q0RFRkdISUpTVFVWV1hZWmNkZWZnaGlqc3R1dnd4eXqDhIWGh4iJipKTlJWWl5iZmqKjpKWmp6ipqrKztLW2t7i5usLDxMXGx8jJytLT1NXW19jZ2uHi4+Tl5ufo6erx8vP09fb3+Pn6/8QAHwEAAwEBAQEBAQEBAQAAAAAAAAECAwQFBgcICQoL/8QAtREAAgECBAQDBAcFBAQAAQJ3AAECAxEEBSExBhJBUQdhcRMiMoEIFEKRobHBCSMzUvAVYnLRChYkNOEl8RcYGRomJygpKjU2Nzg5OkNERUZHSElKU1RVVldYWVpjZGVmZ2hpanN0dXZ3eHl6goOEhYaHiImKkpOUlZaXmJmaoqOkpaanqKmqsrO0tba3uLm6wsPExcbHyMnK0tPU1dbX2Nna4uPk5ebn6Onq8vP09fb3+Pn6/9oADAMBAAIRAxEAPwD3+gAoAKACgAoAKACgAoAKACgAoAKACgAoAKACgAoAKACgAoAKACgAoAKACgAoAKACgAoAKACgAoAKACgAoAKACgAoAKACgAoAKACgAoAKACgAoAKACgAoAKACgAoAKACgAoAKACgAoAKACgAoAKACgAoAKACgAoAKACgAoAKACgAoAKACgAoAKACgAoAKACgAoAKACgAoAKACgAoAKACgAoAKACgAoAKACgAoAKACgAoAKACgAoAKACgAoAKACgAoAKACgAoAKACgAoAKACgAoAKACgAoAKACgAoAKACgAoAKACgAoAKACgAoAKACgAoAKACgAoAKACgAoAKACgAoAKACgAoAKACgAoAKACgAoAKACgAoAKACgAoAKACgAoAKACgAoAKACgAoAKACgAoAKACgAoAKACgAoAKACgAoAKACgAoAKACgAoAKACgAoAKACgAoAKACgAoAKACgAoAKACgAoAKACgAoAKACgAoAKACgAoAKACgAoAKACgAoAKACgAoAKACgAoAKACgAoAKACgAoAKACgAoAKACgAoAKACgAoAKACgAoAKACgAoAKACgAoAKACgAoAKACgAoAKACgAoAKACgAoAKACgAoAKACgAoAKACgAoAKACgAoAKACgAoAKACgAoAKACgAoAKACgAoAKACgAoAKACgAoAKACgAoAKACgAoAKACgAoAKACgAoAKACgAoAKACgAoAKACgAoAKACgAoAKACgAoAKACgAoAKACgAoAKACgAoAKACgAoAKACgAoAKACgAoAKACgAoAKACgAoAKACgAoAKACgAoAKACgAoAKACgAoAKACgAoAKACgAoAKACgAoAKACgAoAKACgAoAKACgAoAKACgAoAKACgAoAKACgAoAKACgAoAKACgAoAKACgAoAKACgAoAKACgAoAKACgAoAKACgAoAKACgAoAKACgAoAKACgAoAKACgAoAKACgAoAKACgAoAKACgAoAKACgAoA/9k=' width='200' height='133' class=\"itemThumbnail\">\n",
       "                       </a>\n",
       "                    </div>\n",
       "\n",
       "                    <div class=\"item_right\"     style=\"float: none; width: auto; overflow: hidden;\">\n",
       "                        <a href='https://utoronto.maps.arcgis.com/home/item.html?id=9243856268e5410ca08c2226fa6e7078' target='_blank'><b>Crime2018</b>\n",
       "                        </a>\n",
       "                        <br/>Crime 2018 incidences<img src='https://utoronto.maps.arcgis.com/home/js/jsapi/esri/css/images/item_type_icons/featureshosted16.png' style=\"vertical-align:middle;\">Feature Layer Collection by macdo925_utoronto\n",
       "                        <br/>Last Modified: August 10, 2019\n",
       "                        <br/>0 comments, 51 views\n",
       "                    </div>\n",
       "                </div>\n",
       "                "
      ],
      "text/plain": [
       "<Item title:\"Crime2018\" type:Feature Layer Collection owner:macdo925_utoronto>"
      ]
     },
     "execution_count": 55,
     "metadata": {},
     "output_type": "execute_result"
    }
   ],
   "source": [
    "items[2]"
   ]
  },
  {
   "cell_type": "code",
   "execution_count": 70,
   "metadata": {},
   "outputs": [
    {
     "name": "stdout",
     "output_type": "stream",
     "text": [
      "FID\n",
      "Index_\n",
      "event_uniq\n",
      "occurrence\n",
      "reportedda\n",
      "premisetyp\n",
      "ucr_code\n",
      "ucr_ext\n",
      "offence\n",
      "reportedye\n",
      "reportedmo\n",
      "reported_1\n",
      "reported_2\n",
      "reported_3\n",
      "reportedho\n",
      "occurren_1\n",
      "occurren_2\n",
      "occurren_3\n",
      "occurren_4\n",
      "occurren_5\n",
      "occurren_6\n",
      "MCI\n",
      "Division\n",
      "Hood_ID\n",
      "Neighbourh\n",
      "Lat\n",
      "Long\n",
      "ObjectId\n",
      "Crimes\n"
     ]
    }
   ],
   "source": [
    "# Let's evaluate what fields exist within our data layers\n",
    "for field in crime_locations.layers[0].properties.fields:\n",
    "    print(field['name'])"
   ]
  },
  {
   "cell_type": "code",
   "execution_count": 71,
   "metadata": {},
   "outputs": [
    {
     "name": "stdout",
     "output_type": "stream",
     "text": [
      "esriGeometryPoint\n"
     ]
    }
   ],
   "source": [
    "crime_featurelayer = crime_locations.layers[0]\n",
    "crime_featureset = crime_featurelayer.query()\n",
    "print(crime_featureset.geometry_type)"
   ]
  },
  {
   "cell_type": "code",
   "execution_count": 73,
   "metadata": {},
   "outputs": [
    {
     "data": {
      "text/html": [
       "<div>\n",
       "<style scoped>\n",
       "    .dataframe tbody tr th:only-of-type {\n",
       "        vertical-align: middle;\n",
       "    }\n",
       "\n",
       "    .dataframe tbody tr th {\n",
       "        vertical-align: top;\n",
       "    }\n",
       "\n",
       "    .dataframe thead th {\n",
       "        text-align: right;\n",
       "    }\n",
       "</style>\n",
       "<table border=\"1\" class=\"dataframe\">\n",
       "  <thead>\n",
       "    <tr style=\"text-align: right;\">\n",
       "      <th></th>\n",
       "      <th>FID</th>\n",
       "      <th>Index_</th>\n",
       "      <th>event_uniq</th>\n",
       "      <th>occurrence</th>\n",
       "      <th>reportedda</th>\n",
       "      <th>premisetyp</th>\n",
       "      <th>ucr_code</th>\n",
       "      <th>ucr_ext</th>\n",
       "      <th>offence</th>\n",
       "      <th>reportedye</th>\n",
       "      <th>...</th>\n",
       "      <th>occurren_6</th>\n",
       "      <th>MCI</th>\n",
       "      <th>Division</th>\n",
       "      <th>Hood_ID</th>\n",
       "      <th>Neighbourh</th>\n",
       "      <th>Lat</th>\n",
       "      <th>Long</th>\n",
       "      <th>ObjectId</th>\n",
       "      <th>Crimes</th>\n",
       "      <th>SHAPE</th>\n",
       "    </tr>\n",
       "  </thead>\n",
       "  <tbody>\n",
       "    <tr>\n",
       "      <th>0</th>\n",
       "      <td>1</td>\n",
       "      <td>16259</td>\n",
       "      <td>GO-201881815</td>\n",
       "      <td>2018-01-14T01:12:00.000Z</td>\n",
       "      <td>2018-01-14T01:12:00.000Z</td>\n",
       "      <td>Outside</td>\n",
       "      <td>1420</td>\n",
       "      <td>100</td>\n",
       "      <td>Assault With Weapon</td>\n",
       "      <td>2018</td>\n",
       "      <td>...</td>\n",
       "      <td>1</td>\n",
       "      <td>Assault</td>\n",
       "      <td>D51</td>\n",
       "      <td>75</td>\n",
       "      <td>Church-Yonge Corridor (75)</td>\n",
       "      <td>43.654957</td>\n",
       "      <td>-79.375877</td>\n",
       "      <td>15010</td>\n",
       "      <td>1</td>\n",
       "      <td>{\"x\": -8836082.253406385, \"y\": 5412200.2968903...</td>\n",
       "    </tr>\n",
       "    <tr>\n",
       "      <th>1</th>\n",
       "      <td>2</td>\n",
       "      <td>16260</td>\n",
       "      <td>GO-2018129259</td>\n",
       "      <td>2018-01-21T13:18:00.000Z</td>\n",
       "      <td>2018-01-21T13:25:00.000Z</td>\n",
       "      <td>Commercial</td>\n",
       "      <td>1610</td>\n",
       "      <td>210</td>\n",
       "      <td>Robbery - Business</td>\n",
       "      <td>2018</td>\n",
       "      <td>...</td>\n",
       "      <td>13</td>\n",
       "      <td>Robbery</td>\n",
       "      <td>D11</td>\n",
       "      <td>86</td>\n",
       "      <td>Roncesvalles (86)</td>\n",
       "      <td>43.640335</td>\n",
       "      <td>-79.437920</td>\n",
       "      <td>15011</td>\n",
       "      <td>1</td>\n",
       "      <td>{\"x\": -8842988.759516694, \"y\": 5409950.8713296...</td>\n",
       "    </tr>\n",
       "    <tr>\n",
       "      <th>2</th>\n",
       "      <td>3</td>\n",
       "      <td>16261</td>\n",
       "      <td>GO-2018134696</td>\n",
       "      <td>2018-01-21T15:00:00.000Z</td>\n",
       "      <td>2018-01-22T11:21:00.000Z</td>\n",
       "      <td>House</td>\n",
       "      <td>2120</td>\n",
       "      <td>200</td>\n",
       "      <td>B&amp;E</td>\n",
       "      <td>2018</td>\n",
       "      <td>...</td>\n",
       "      <td>15</td>\n",
       "      <td>Break and Enter</td>\n",
       "      <td>D42</td>\n",
       "      <td>132</td>\n",
       "      <td>Malvern (132)</td>\n",
       "      <td>43.802563</td>\n",
       "      <td>-79.232048</td>\n",
       "      <td>15012</td>\n",
       "      <td>1</td>\n",
       "      <td>{\"x\": -8820071.237892143, \"y\": 5434938.9707084...</td>\n",
       "    </tr>\n",
       "    <tr>\n",
       "      <th>3</th>\n",
       "      <td>4</td>\n",
       "      <td>16262</td>\n",
       "      <td>GO-2018178024</td>\n",
       "      <td>2018-01-29T00:59:00.000Z</td>\n",
       "      <td>2018-01-29T00:59:00.000Z</td>\n",
       "      <td>Commercial</td>\n",
       "      <td>2120</td>\n",
       "      <td>200</td>\n",
       "      <td>B&amp;E</td>\n",
       "      <td>2018</td>\n",
       "      <td>...</td>\n",
       "      <td>0</td>\n",
       "      <td>Break and Enter</td>\n",
       "      <td>D55</td>\n",
       "      <td>121</td>\n",
       "      <td>Oakridge (121)</td>\n",
       "      <td>43.691235</td>\n",
       "      <td>-79.288361</td>\n",
       "      <td>15013</td>\n",
       "      <td>1</td>\n",
       "      <td>{\"x\": -8826339.92778782, \"y\": 5417783.69801374...</td>\n",
       "    </tr>\n",
       "    <tr>\n",
       "      <th>4</th>\n",
       "      <td>5</td>\n",
       "      <td>16263</td>\n",
       "      <td>GO-2018178024</td>\n",
       "      <td>2018-01-29T00:59:00.000Z</td>\n",
       "      <td>2018-01-29T00:59:00.000Z</td>\n",
       "      <td>Commercial</td>\n",
       "      <td>1420</td>\n",
       "      <td>100</td>\n",
       "      <td>Assault With Weapon</td>\n",
       "      <td>2018</td>\n",
       "      <td>...</td>\n",
       "      <td>0</td>\n",
       "      <td>Assault</td>\n",
       "      <td>D55</td>\n",
       "      <td>121</td>\n",
       "      <td>Oakridge (121)</td>\n",
       "      <td>43.691235</td>\n",
       "      <td>-79.288361</td>\n",
       "      <td>15014</td>\n",
       "      <td>1</td>\n",
       "      <td>{\"x\": -8826339.92778782, \"y\": 5417783.69801374...</td>\n",
       "    </tr>\n",
       "    <tr>\n",
       "      <th>...</th>\n",
       "      <td>...</td>\n",
       "      <td>...</td>\n",
       "      <td>...</td>\n",
       "      <td>...</td>\n",
       "      <td>...</td>\n",
       "      <td>...</td>\n",
       "      <td>...</td>\n",
       "      <td>...</td>\n",
       "      <td>...</td>\n",
       "      <td>...</td>\n",
       "      <td>...</td>\n",
       "      <td>...</td>\n",
       "      <td>...</td>\n",
       "      <td>...</td>\n",
       "      <td>...</td>\n",
       "      <td>...</td>\n",
       "      <td>...</td>\n",
       "      <td>...</td>\n",
       "      <td>...</td>\n",
       "      <td>...</td>\n",
       "      <td>...</td>\n",
       "    </tr>\n",
       "    <tr>\n",
       "      <th>36298</th>\n",
       "      <td>36299</td>\n",
       "      <td>172717</td>\n",
       "      <td>GO-2018926482</td>\n",
       "      <td>2018-05-22T22:00:00.000Z</td>\n",
       "      <td>2018-05-23T08:55:00.000Z</td>\n",
       "      <td>Outside</td>\n",
       "      <td>2135</td>\n",
       "      <td>210</td>\n",
       "      <td>Theft Of Motor Vehicle</td>\n",
       "      <td>2018</td>\n",
       "      <td>...</td>\n",
       "      <td>22</td>\n",
       "      <td>Auto Theft</td>\n",
       "      <td>D12</td>\n",
       "      <td>111</td>\n",
       "      <td>Rockcliffe-Smythe (111)</td>\n",
       "      <td>43.672337</td>\n",
       "      <td>-79.495255</td>\n",
       "      <td>159934</td>\n",
       "      <td>1</td>\n",
       "      <td>{\"x\": -8849371.251410026, \"y\": 5414874.7456681...</td>\n",
       "    </tr>\n",
       "    <tr>\n",
       "      <th>36299</th>\n",
       "      <td>36300</td>\n",
       "      <td>172718</td>\n",
       "      <td>GO-2018517812</td>\n",
       "      <td>2018-03-21T18:00:00.000Z</td>\n",
       "      <td>2018-03-22T08:44:00.000Z</td>\n",
       "      <td>Outside</td>\n",
       "      <td>2135</td>\n",
       "      <td>210</td>\n",
       "      <td>Theft Of Motor Vehicle</td>\n",
       "      <td>2018</td>\n",
       "      <td>...</td>\n",
       "      <td>18</td>\n",
       "      <td>Auto Theft</td>\n",
       "      <td>D32</td>\n",
       "      <td>35</td>\n",
       "      <td>Westminster-Branson (35)</td>\n",
       "      <td>43.781944</td>\n",
       "      <td>-79.450424</td>\n",
       "      <td>159935</td>\n",
       "      <td>1</td>\n",
       "      <td>{\"x\": -8844380.765222078, \"y\": 5431759.3382555...</td>\n",
       "    </tr>\n",
       "    <tr>\n",
       "      <th>36300</th>\n",
       "      <td>36301</td>\n",
       "      <td>172719</td>\n",
       "      <td>GO-2018683950</td>\n",
       "      <td>2018-04-16T22:30:00.000Z</td>\n",
       "      <td>2018-04-17T07:58:00.000Z</td>\n",
       "      <td>Outside</td>\n",
       "      <td>2135</td>\n",
       "      <td>210</td>\n",
       "      <td>Theft Of Motor Vehicle</td>\n",
       "      <td>2018</td>\n",
       "      <td>...</td>\n",
       "      <td>22</td>\n",
       "      <td>Auto Theft</td>\n",
       "      <td>D32</td>\n",
       "      <td>39</td>\n",
       "      <td>Bedford Park-Nortown (39)</td>\n",
       "      <td>43.737354</td>\n",
       "      <td>-79.429192</td>\n",
       "      <td>159936</td>\n",
       "      <td>1</td>\n",
       "      <td>{\"x\": -8842017.163045857, \"y\": 5424886.7128086...</td>\n",
       "    </tr>\n",
       "    <tr>\n",
       "      <th>36301</th>\n",
       "      <td>36302</td>\n",
       "      <td>172720</td>\n",
       "      <td>GO-2018933022</td>\n",
       "      <td>2018-05-23T22:00:00.000Z</td>\n",
       "      <td>2018-05-24T07:26:00.000Z</td>\n",
       "      <td>Outside</td>\n",
       "      <td>2135</td>\n",
       "      <td>210</td>\n",
       "      <td>Theft Of Motor Vehicle</td>\n",
       "      <td>2018</td>\n",
       "      <td>...</td>\n",
       "      <td>22</td>\n",
       "      <td>Auto Theft</td>\n",
       "      <td>D13</td>\n",
       "      <td>102</td>\n",
       "      <td>Forest Hill North (102)</td>\n",
       "      <td>43.702938</td>\n",
       "      <td>-79.437836</td>\n",
       "      <td>159937</td>\n",
       "      <td>1</td>\n",
       "      <td>{\"x\": -8842979.41986125, \"y\": 5419585.66699644...</td>\n",
       "    </tr>\n",
       "    <tr>\n",
       "      <th>36302</th>\n",
       "      <td>36303</td>\n",
       "      <td>172721</td>\n",
       "      <td>GO-2018939788</td>\n",
       "      <td>2018-05-24T22:30:00.000Z</td>\n",
       "      <td>2018-05-25T06:18:00.000Z</td>\n",
       "      <td>Outside</td>\n",
       "      <td>2135</td>\n",
       "      <td>210</td>\n",
       "      <td>Theft Of Motor Vehicle</td>\n",
       "      <td>2018</td>\n",
       "      <td>...</td>\n",
       "      <td>22</td>\n",
       "      <td>Auto Theft</td>\n",
       "      <td>D23</td>\n",
       "      <td>3</td>\n",
       "      <td>Thistletown-Beaumond Heights (3)</td>\n",
       "      <td>43.742901</td>\n",
       "      <td>-79.571274</td>\n",
       "      <td>159938</td>\n",
       "      <td>1</td>\n",
       "      <td>{\"x\": -8857833.68122662, \"y\": 5425741.31216811...</td>\n",
       "    </tr>\n",
       "  </tbody>\n",
       "</table>\n",
       "<p>36303 rows × 30 columns</p>\n",
       "</div>"
      ],
      "text/plain": [
       "         FID  Index_     event_uniq                occurrence  \\\n",
       "0          1   16259   GO-201881815  2018-01-14T01:12:00.000Z   \n",
       "1          2   16260  GO-2018129259  2018-01-21T13:18:00.000Z   \n",
       "2          3   16261  GO-2018134696  2018-01-21T15:00:00.000Z   \n",
       "3          4   16262  GO-2018178024  2018-01-29T00:59:00.000Z   \n",
       "4          5   16263  GO-2018178024  2018-01-29T00:59:00.000Z   \n",
       "...      ...     ...            ...                       ...   \n",
       "36298  36299  172717  GO-2018926482  2018-05-22T22:00:00.000Z   \n",
       "36299  36300  172718  GO-2018517812  2018-03-21T18:00:00.000Z   \n",
       "36300  36301  172719  GO-2018683950  2018-04-16T22:30:00.000Z   \n",
       "36301  36302  172720  GO-2018933022  2018-05-23T22:00:00.000Z   \n",
       "36302  36303  172721  GO-2018939788  2018-05-24T22:30:00.000Z   \n",
       "\n",
       "                     reportedda  premisetyp  ucr_code  ucr_ext  \\\n",
       "0      2018-01-14T01:12:00.000Z     Outside      1420      100   \n",
       "1      2018-01-21T13:25:00.000Z  Commercial      1610      210   \n",
       "2      2018-01-22T11:21:00.000Z       House      2120      200   \n",
       "3      2018-01-29T00:59:00.000Z  Commercial      2120      200   \n",
       "4      2018-01-29T00:59:00.000Z  Commercial      1420      100   \n",
       "...                         ...         ...       ...      ...   \n",
       "36298  2018-05-23T08:55:00.000Z     Outside      2135      210   \n",
       "36299  2018-03-22T08:44:00.000Z     Outside      2135      210   \n",
       "36300  2018-04-17T07:58:00.000Z     Outside      2135      210   \n",
       "36301  2018-05-24T07:26:00.000Z     Outside      2135      210   \n",
       "36302  2018-05-25T06:18:00.000Z     Outside      2135      210   \n",
       "\n",
       "                      offence  reportedye  ... occurren_6              MCI  \\\n",
       "0         Assault With Weapon        2018  ...          1          Assault   \n",
       "1          Robbery - Business        2018  ...         13          Robbery   \n",
       "2                         B&E        2018  ...         15  Break and Enter   \n",
       "3                         B&E        2018  ...          0  Break and Enter   \n",
       "4         Assault With Weapon        2018  ...          0          Assault   \n",
       "...                       ...         ...  ...        ...              ...   \n",
       "36298  Theft Of Motor Vehicle        2018  ...         22       Auto Theft   \n",
       "36299  Theft Of Motor Vehicle        2018  ...         18       Auto Theft   \n",
       "36300  Theft Of Motor Vehicle        2018  ...         22       Auto Theft   \n",
       "36301  Theft Of Motor Vehicle        2018  ...         22       Auto Theft   \n",
       "36302  Theft Of Motor Vehicle        2018  ...         22       Auto Theft   \n",
       "\n",
       "       Division Hood_ID                        Neighbourh        Lat  \\\n",
       "0           D51      75        Church-Yonge Corridor (75)  43.654957   \n",
       "1           D11      86                 Roncesvalles (86)  43.640335   \n",
       "2           D42     132                     Malvern (132)  43.802563   \n",
       "3           D55     121                    Oakridge (121)  43.691235   \n",
       "4           D55     121                    Oakridge (121)  43.691235   \n",
       "...         ...     ...                               ...        ...   \n",
       "36298       D12     111           Rockcliffe-Smythe (111)  43.672337   \n",
       "36299       D32      35          Westminster-Branson (35)  43.781944   \n",
       "36300       D32      39         Bedford Park-Nortown (39)  43.737354   \n",
       "36301       D13     102           Forest Hill North (102)  43.702938   \n",
       "36302       D23       3  Thistletown-Beaumond Heights (3)  43.742901   \n",
       "\n",
       "            Long  ObjectId  Crimes  \\\n",
       "0     -79.375877     15010       1   \n",
       "1     -79.437920     15011       1   \n",
       "2     -79.232048     15012       1   \n",
       "3     -79.288361     15013       1   \n",
       "4     -79.288361     15014       1   \n",
       "...          ...       ...     ...   \n",
       "36298 -79.495255    159934       1   \n",
       "36299 -79.450424    159935       1   \n",
       "36300 -79.429192    159936       1   \n",
       "36301 -79.437836    159937       1   \n",
       "36302 -79.571274    159938       1   \n",
       "\n",
       "                                                   SHAPE  \n",
       "0      {\"x\": -8836082.253406385, \"y\": 5412200.2968903...  \n",
       "1      {\"x\": -8842988.759516694, \"y\": 5409950.8713296...  \n",
       "2      {\"x\": -8820071.237892143, \"y\": 5434938.9707084...  \n",
       "3      {\"x\": -8826339.92778782, \"y\": 5417783.69801374...  \n",
       "4      {\"x\": -8826339.92778782, \"y\": 5417783.69801374...  \n",
       "...                                                  ...  \n",
       "36298  {\"x\": -8849371.251410026, \"y\": 5414874.7456681...  \n",
       "36299  {\"x\": -8844380.765222078, \"y\": 5431759.3382555...  \n",
       "36300  {\"x\": -8842017.163045857, \"y\": 5424886.7128086...  \n",
       "36301  {\"x\": -8842979.41986125, \"y\": 5419585.66699644...  \n",
       "36302  {\"x\": -8857833.68122662, \"y\": 5425741.31216811...  \n",
       "\n",
       "[36303 rows x 30 columns]"
      ]
     },
     "execution_count": 73,
     "metadata": {},
     "output_type": "execute_result"
    }
   ],
   "source": [
    "crime_featureset.sdf"
   ]
  },
  {
   "cell_type": "code",
   "execution_count": null,
   "metadata": {},
   "outputs": [],
   "source": []
  }
 ],
 "metadata": {
  "kernelspec": {
   "display_name": "PythonData",
   "language": "python",
   "name": "pythondata"
  },
  "language_info": {
   "codemirror_mode": {
    "name": "ipython",
    "version": 3
   },
   "file_extension": ".py",
   "mimetype": "text/x-python",
   "name": "python",
   "nbconvert_exporter": "python",
   "pygments_lexer": "ipython3",
   "version": "3.8.5"
  }
 },
 "nbformat": 4,
 "nbformat_minor": 4
}
